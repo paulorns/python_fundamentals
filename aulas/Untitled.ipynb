{
 "cells": [
  {
   "cell_type": "code",
   "execution_count": 1,
   "metadata": {},
   "outputs": [],
   "source": [
    "lista = [1, 2, 3]"
   ]
  },
  {
   "cell_type": "code",
   "execution_count": 2,
   "metadata": {},
   "outputs": [
    {
     "data": {
      "text/plain": [
       "[1, 2, 3]"
      ]
     },
     "execution_count": 2,
     "metadata": {},
     "output_type": "execute_result"
    }
   ],
   "source": [
    "lista"
   ]
  },
  {
   "cell_type": "code",
   "execution_count": 3,
   "metadata": {},
   "outputs": [
    {
     "ename": "AttributeError",
     "evalue": "module 'pandas' has no attribute 'read_csv'",
     "output_type": "error",
     "traceback": [
      "\u001b[0;31m---------------------------------------------------------------------------\u001b[0m",
      "\u001b[0;31mAttributeError\u001b[0m                            Traceback (most recent call last)",
      "\u001b[0;32m<ipython-input-3-7dd3504c366f>\u001b[0m in \u001b[0;36m<module>\u001b[0;34m\u001b[0m\n\u001b[0;32m----> 1\u001b[0;31m \u001b[0;32mimport\u001b[0m \u001b[0mpandas\u001b[0m \u001b[0;32mas\u001b[0m \u001b[0mpd\u001b[0m\u001b[0;34m\u001b[0m\u001b[0;34m\u001b[0m\u001b[0m\n\u001b[0m",
      "\u001b[0;32m~/python_fundamentals/aulas/pandas.py\u001b[0m in \u001b[0;36m<module>\u001b[0;34m\u001b[0m\n\u001b[1;32m      2\u001b[0m \u001b[0;34m\u001b[0m\u001b[0m\n\u001b[1;32m      3\u001b[0m \u001b[0;32mimport\u001b[0m \u001b[0mpandas\u001b[0m \u001b[0;32mas\u001b[0m \u001b[0mpd\u001b[0m\u001b[0;34m\u001b[0m\u001b[0;34m\u001b[0m\u001b[0m\n\u001b[0;32m----> 4\u001b[0;31m \u001b[0mdf\u001b[0m \u001b[0;34m=\u001b[0m \u001b[0mpd\u001b[0m\u001b[0;34m.\u001b[0m\u001b[0mread_csv\u001b[0m\u001b[0;34m(\u001b[0m\u001b[0;34m'../arquivos/salarios.csv'\u001b[0m\u001b[0;34m,\u001b[0m \u001b[0mencoding\u001b[0m\u001b[0;34m=\u001b[0m\u001b[0;34m'UTF-8'\u001b[0m\u001b[0;34m)\u001b[0m\u001b[0;34m\u001b[0m\u001b[0;34m\u001b[0m\u001b[0m\n\u001b[0m\u001b[1;32m      5\u001b[0m \u001b[0;31m# encoding='UTF=8' -> Mostra qual encoding deve ser tratado o arquivo\u001b[0m\u001b[0;34m\u001b[0m\u001b[0;34m\u001b[0m\u001b[0;34m\u001b[0m\u001b[0m\n\u001b[1;32m      6\u001b[0m \u001b[0;31m# header=0 -> Informo qual linha ele vai usar como cabeçalho\u001b[0m\u001b[0;34m\u001b[0m\u001b[0;34m\u001b[0m\u001b[0;34m\u001b[0m\u001b[0m\n",
      "\u001b[0;31mAttributeError\u001b[0m: module 'pandas' has no attribute 'read_csv'"
     ]
    }
   ],
   "source": [
    "import pandas as pd"
   ]
  },
  {
   "cell_type": "code",
   "execution_count": 4,
   "metadata": {},
   "outputs": [
    {
     "name": "stdout",
     "output_type": "stream",
     "text": [
      "total 2232\r\n",
      "-rw-rw-r-- 1 developer developer      26 nov 18 21:11 arquivo01.txt\r\n",
      "-rwxrwxr-x 1 developer developer      47 nov 18 19:31 aula01.py\r\n",
      "-rw-rw-r-- 1 developer developer    2301 nov 18 19:31 aula02.py\r\n",
      "-rw-rw-r-- 1 developer developer    1900 nov 18 19:31 aula03.py\r\n",
      "-rw-rw-r-- 1 developer developer    3504 nov 18 20:20 aula04.py\r\n",
      "-rw-rw-r-- 1 developer developer    2627 nov 18 23:15 aula05.py\r\n",
      "-rw-rw-r-- 1 developer developer    1209 nov 19 21:43 aula06.py\r\n",
      "-rw-rw-r-- 1 developer developer    1977 nov 21 22:39 aula07.py\r\n",
      "-rw-rw-r-- 1 developer developer    1892 nov 25 22:37 aula09.py\r\n",
      "-rw-rw-r-- 1 developer developer    1452 nov 25 22:35 aula09_testes.py\r\n",
      "-rw-rw-r-- 1 developer developer    2771 nov 22 23:33 bancodados.py\r\n",
      "-rw-rw-r-- 1 developer developer    1955 nov 21 23:14 modulos.py\r\n",
      "-rw-rw-r-- 1 developer developer  767153 nov 19 19:51 name.csv\r\n",
      "-rw-rw-r-- 1 developer developer 1438051 nov 19 20:09 name_salario.csv\r\n",
      "-rw-rw-r-- 1 developer developer    1277 nov 19 20:11 pandas.py\r\n",
      "-rw-rw-r-- 1 developer developer    1334 nov 19 23:05 POO.py\r\n",
      "drwxrwxr-x 2 developer developer    4096 nov 26 22:17 __pycache__\r\n",
      "-rw-rw-r-- 1 developer developer    1153 nov 18 19:31 revisao.py\r\n",
      "-rw-rw-r-- 1 developer developer     560 nov 26 22:06 ssh.py\r\n",
      "-rw-rw-r-- 1 developer developer      72 nov 26 22:16 Untitled.ipynb\r\n"
     ]
    }
   ],
   "source": [
    "!ls -l"
   ]
  }
 ],
 "metadata": {
  "kernelspec": {
   "display_name": "Python 3",
   "language": "python",
   "name": "python3"
  },
  "language_info": {
   "codemirror_mode": {
    "name": "ipython",
    "version": 3
   },
   "file_extension": ".py",
   "mimetype": "text/x-python",
   "name": "python",
   "nbconvert_exporter": "python",
   "pygments_lexer": "ipython3",
   "version": "3.6.8"
  }
 },
 "nbformat": 4,
 "nbformat_minor": 2
}
